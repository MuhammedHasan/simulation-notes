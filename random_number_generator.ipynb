{
 "cells": [
  {
   "cell_type": "markdown",
   "metadata": {
    "nbpresent": {
     "id": "2a838d9b-4e28-4c80-a4e1-3accc9c7433c"
    }
   },
   "source": [
    "# Generating Pseudorandom Uniform Random Number"
   ]
  },
  {
   "cell_type": "code",
   "execution_count": 1,
   "metadata": {
    "collapsed": true,
    "nbpresent": {
     "id": "df9444e7-bc5f-4be5-ab81-35f9cee88596"
    }
   },
   "outputs": [],
   "source": [
    "class RandGenerator:\n",
    "    '''\n",
    "    Generate uniform numbers between 0 and 1\n",
    "    '''\n",
    "    \n",
    "    def __init__(self, seed=5):\n",
    "        self.a = 7465445645\n",
    "        self.m = 2554564456456\n",
    "        self.previous = seed\n",
    "        self.c = 34092834\n",
    "        \n",
    "    def next(self):\n",
    "        self.previous = (self.a * self.previous + self.c) % self.m \n",
    "        return self.previous / self.m\n",
    "    "
   ]
  },
  {
   "cell_type": "code",
   "execution_count": 2,
   "metadata": {
    "collapsed": false,
    "nbpresent": {
     "id": "0b3a56ad-7908-4339-ad58-fcf9f998ea4a"
    }
   },
   "outputs": [],
   "source": [
    "r = RandGenerator(66)"
   ]
  },
  {
   "cell_type": "code",
   "execution_count": 3,
   "metadata": {
    "collapsed": false,
    "nbpresent": {
     "id": "9bc0e768-100d-404c-9eeb-da0b775c416b"
    },
    "scrolled": true
   },
   "outputs": [
    {
     "data": {
      "text/plain": [
       "[0.19289139648001175,\n",
       " 0.8096853716204621,\n",
       " 0.3841983362164206,\n",
       " 0.92313620504436,\n",
       " 0.6902575386938065]"
      ]
     },
     "execution_count": 3,
     "metadata": {},
     "output_type": "execute_result"
    }
   ],
   "source": [
    "[r.next() for _ in range(5)]"
   ]
  },
  {
   "cell_type": "code",
   "execution_count": 4,
   "metadata": {
    "collapsed": true,
    "nbpresent": {
     "id": "f26b1600-e9a2-4608-9159-41fe0ce66fd6"
    }
   },
   "outputs": [],
   "source": [
    "import matplotlib.pyplot as plt"
   ]
  },
  {
   "cell_type": "code",
   "execution_count": 5,
   "metadata": {
    "collapsed": false,
    "nbpresent": {
     "id": "c3b31923-98ea-4b73-a4c3-4c479e6c685b"
    },
    "scrolled": true
   },
   "outputs": [
    {
     "data": {
      "image/png": "[encoded data removed]",
      "text/plain": [
       "<matplotlib.figure.Figure at 0x7fe12e9e0f28>"
      ]
     },
     "metadata": {},
     "output_type": "display_data"
    }
   ],
   "source": [
    "%matplotlib inline\n",
    "\n",
    "plt.hist([r.next() for _ in range(1000000)])\n",
    "plt.show()"
   ]
  },
  {
   "cell_type": "markdown",
   "metadata": {
    "nbpresent": {
     "id": "315430c7-7de6-41df-879b-6f8ac2633fb6"
    }
   },
   "source": [
    "## Expected Value"
   ]
  },
  {
   "cell_type": "code",
   "execution_count": 6,
   "metadata": {
    "collapsed": false,
    "nbpresent": {
     "id": "28042957-8080-4242-817c-eb5ca2c11643"
    }
   },
   "outputs": [],
   "source": [
    "l = [r.next() for _ in range(1000000)]"
   ]
  },
  {
   "cell_type": "code",
   "execution_count": 7,
   "metadata": {
    "collapsed": false,
    "nbpresent": {
     "id": "614ad800-5a94-42f9-95a7-3969ba1b22c4"
    }
   },
   "outputs": [
    {
     "data": {
      "text/plain": [
       "0.500104286603048"
      ]
     },
     "execution_count": 7,
     "metadata": {},
     "output_type": "execute_result"
    }
   ],
   "source": [
    "sum(l)/len(l)"
   ]
  },
  {
   "cell_type": "markdown",
   "metadata": {
    "nbpresent": {
     "id": "77c05e43-a010-41f2-9996-635862698b25"
    }
   },
   "source": [
    "## Calculating PI number"
   ]
  },
  {
   "cell_type": "code",
   "execution_count": 8,
   "metadata": {
    "collapsed": false,
    "nbpresent": {
     "id": "0c8049ad-4ddf-499b-b41b-25c7ff64dc81"
    }
   },
   "outputs": [],
   "source": [
    "x = [2 * r.next() - 1 for _ in range(10000000)]\n",
    "y = [2 * r.next() - 1 for _ in range(10000000)]\n",
    "points = zip(x,y)"
   ]
  },
  {
   "cell_type": "code",
   "execution_count": 9,
   "metadata": {
    "collapsed": false,
    "nbpresent": {
     "id": "5aecc56c-7b2b-43b5-9896-14801108e58e"
    }
   },
   "outputs": [],
   "source": [
    "import math\n",
    "I = [math.sqrt(x**2+y**2) <= 1 for x,y in points]"
   ]
  },
  {
   "cell_type": "code",
   "execution_count": 10,
   "metadata": {
    "collapsed": false,
    "nbpresent": {
     "id": "72225e65-adaf-4a26-a557-c896106b9c90"
    }
   },
   "outputs": [
    {
     "data": {
      "text/plain": [
       "3.141936"
      ]
     },
     "execution_count": 10,
     "metadata": {},
     "output_type": "execute_result"
    }
   ],
   "source": [
    "4 * sum(I)/len(I) "
   ]
  },
  {
   "cell_type": "code",
   "execution_count": 11,
   "metadata": {
    "collapsed": false,
    "nbpresent": {
     "id": "632af008-5f51-43c1-8a0d-5bd49168078e"
    }
   },
   "outputs": [
    {
     "data": {
      "text/plain": [
       "3.141592653589793"
      ]
     },
     "execution_count": 11,
     "metadata": {},
     "output_type": "execute_result"
    }
   ],
   "source": [
    "math.pi"
   ]
  },
  {
   "cell_type": "markdown",
   "metadata": {
    "nbpresent": {
     "id": "4e0164bb-e3bd-46fc-96ed-063386265e3c"
    }
   },
   "source": [
    "## Generating Geometric Random Number"
   ]
  },
  {
   "cell_type": "code",
   "execution_count": 12,
   "metadata": {
    "collapsed": true,
    "nbpresent": {
     "id": "c5a9570a-53ae-4f93-b329-e2d4f70910a2"
    }
   },
   "outputs": [],
   "source": [
    "def geo_random(p):\n",
    "    q =  1 - p\n",
    "    return int(math.log10(r.next())/math.log10(q)) + 1"
   ]
  },
  {
   "cell_type": "code",
   "execution_count": 13,
   "metadata": {
    "collapsed": false,
    "nbpresent": {
     "id": "2c7ae14e-b8d4-490d-8eb7-54b6b0967535"
    },
    "scrolled": false
   },
   "outputs": [
    {
     "data": {
      "text/plain": [
       "[8, 15, 5, 15, 20, 4, 12, 28, 10, 2]"
      ]
     },
     "execution_count": 13,
     "metadata": {},
     "output_type": "execute_result"
    }
   ],
   "source": [
    "[geo_random(0.1) for _ in range(10)]"
   ]
  },
  {
   "cell_type": "code",
   "execution_count": 14,
   "metadata": {
    "collapsed": false,
    "nbpresent": {
     "id": "00a7e9e2-65e7-4b7f-88c1-3730f01a2fba"
    }
   },
   "outputs": [
    {
     "data": {
      "image/png": "[encoded data removed]",
      "text/plain": [
       "<matplotlib.figure.Figure at 0x7fe1399c47b8>"
      ]
     },
     "metadata": {},
     "output_type": "display_data"
    }
   ],
   "source": [
    "%matplotlib inline\n",
    "\n",
    "plt.hist([geo_random(0.1) for _ in range(10000)])\n",
    "plt.show()"
   ]
  },
  {
   "cell_type": "markdown",
   "metadata": {
    "nbpresent": {
     "id": "32aa350a-2cc3-437b-a557-9beb9436940f"
    }
   },
   "source": [
    "## Generating Poisson Random Number"
   ]
  },
  {
   "cell_type": "code",
   "execution_count": 15,
   "metadata": {
    "collapsed": true,
    "nbpresent": {
     "id": "f4eff274-7807-44f8-81b5-b22b33529450"
    }
   },
   "outputs": [],
   "source": [
    "def possion_random(lam):\n",
    "    rn = r.next()\n",
    "    i = 0\n",
    "    p = math.e ** -lam\n",
    "    F = p\n",
    "    while rn >= F:\n",
    "        i += 1\n",
    "        p = lam * p / i\n",
    "        F += p\n",
    "    return i"
   ]
  },
  {
   "cell_type": "code",
   "execution_count": 16,
   "metadata": {
    "collapsed": false,
    "nbpresent": {
     "id": "c450c8f2-f854-4604-908f-4ce78cfc523b"
    }
   },
   "outputs": [
    {
     "data": {
      "text/plain": [
       "[13, 15, 6, 12, 9, 10, 7, 8, 5, 6]"
      ]
     },
     "execution_count": 16,
     "metadata": {},
     "output_type": "execute_result"
    }
   ],
   "source": [
    "[possion_random(10) for _ in range(10)]"
   ]
  },
  {
   "cell_type": "code",
   "execution_count": 17,
   "metadata": {
    "collapsed": false,
    "nbpresent": {
     "id": "d2984356-6636-454c-926a-78a56de17a81"
    }
   },
   "outputs": [
    {
     "data": {
      "image/png": "[encoded data removed]",
      "text/plain": [
       "<matplotlib.figure.Figure at 0x7fe12d2910f0>"
      ]
     },
     "metadata": {},
     "output_type": "display_data"
    }
   ],
   "source": [
    "%matplotlib inline\n",
    "\n",
    "plt.hist([possion_random(1) for _ in range(1000000)])\n",
    "plt.show()"
   ]
  },
  {
   "cell_type": "code",
   "execution_count": 18,
   "metadata": {
    "collapsed": false,
    "nbpresent": {
     "id": "6c8d935a-c7e9-4e97-a09c-4c05b34ec27a"
    }
   },
   "outputs": [
    {
     "data": {
      "image/png": "[encoded data removed]",
      "text/plain": [
       "<matplotlib.figure.Figure at 0x7fe12cff95c0>"
      ]
     },
     "metadata": {},
     "output_type": "display_data"
    }
   ],
   "source": [
    "%matplotlib inline\n",
    "\n",
    "plt.hist([possion_random(4) for _ in range(1000000)])\n",
    "plt.show()"
   ]
  },
  {
   "cell_type": "code",
   "execution_count": 19,
   "metadata": {
    "collapsed": false,
    "nbpresent": {
     "id": "66cf1ff8-5592-4fa8-9409-42dbf77888ee"
    }
   },
   "outputs": [
    {
     "data": {
      "image/png": "[encoded data removed]",
      "text/plain": [
       "<matplotlib.figure.Figure at 0x7fe108b88358>"
      ]
     },
     "metadata": {},
     "output_type": "display_data"
    }
   ],
   "source": [
    "%matplotlib inline\n",
    "\n",
    "plt.hist([possion_random(10) for _ in range(1000000)])\n",
    "plt.show()"
   ]
  },
  {
   "cell_type": "code",
   "execution_count": null,
   "metadata": {
    "collapsed": true,
    "nbpresent": {
     "id": "cf5e3d8b-8bd2-45c7-af20-f57bc44a615f"
    }
   },
   "outputs": [],
   "source": []
  }
 ],
 "metadata": {
  "anaconda-cloud": {},
  "kernelspec": {
   "display_name": "Python [Root]",
   "language": "python",
   "name": "Python [Root]"
  },
  "language_info": {
   "codemirror_mode": {
    "name": "ipython",
    "version": 3
   },
   "file_extension": ".py",
   "mimetype": "text/x-python",
   "name": "python",
   "nbconvert_exporter": "python",
   "pygments_lexer": "ipython3",
   "version": "3.5.2"
  },
  "nbpresent": {
   "slides": {
    "1936576f-d159-4c23-b7d6-3dfb77ecd830": {
     "id": "1936576f-d159-4c23-b7d6-3dfb77ecd830",
     "prev": "7327b319-e0bf-4ef6-a897-6c8059a74ec4",
     "regions": {
      "aac3b200-5391-478e-a4fc-47291669cf14": {
       "attrs": {
        "height": 0.8,
        "width": 0.8,
        "x": 0.1,
        "y": 0.1
       },
       "content": {
        "cell": "4e0164bb-e3bd-46fc-96ed-063386265e3c",
        "part": "whole"
       },
       "id": "aac3b200-5391-478e-a4fc-47291669cf14"
      }
     }
    },
    "1ca2c16c-bf06-40eb-bc14-bb12a3f59b7c": {
     "id": "1ca2c16c-bf06-40eb-bc14-bb12a3f59b7c",
     "prev": "ee2b74a9-826f-4ece-8bbc-be26bc19b6e5",
     "regions": {
      "a6cc8bea-c826-438e-a461-fa2be1f27799": {
       "attrs": {
        "height": 0.8,
        "width": 0.8,
        "x": 0.1,
        "y": 0.1
       },
       "content": {
        "cell": "614ad800-5a94-42f9-95a7-3969ba1b22c4",
        "part": "whole"
       },
       "id": "a6cc8bea-c826-438e-a461-fa2be1f27799"
      }
     }
    },
    "2b600f02-12e6-425a-a7a1-9f99046e3fa5": {
     "id": "2b600f02-12e6-425a-a7a1-9f99046e3fa5",
     "prev": "37eb71ad-25db-4330-a7e9-cdd80a3647e6",
     "regions": {
      "347a0e9d-0722-438c-aee2-73a7bab6549f": {
       "attrs": {
        "height": 0.8,
        "width": 0.8,
        "x": 0.1,
        "y": 0.1
       },
       "content": {
        "cell": "6c8d935a-c7e9-4e97-a09c-4c05b34ec27a",
        "part": "whole"
       },
       "id": "347a0e9d-0722-438c-aee2-73a7bab6549f"
      }
     }
    },
    "300b47ff-f80b-428c-8262-bcd359007cfb": {
     "id": "300b47ff-f80b-428c-8262-bcd359007cfb",
     "prev": "4733128a-7c69-47cf-8cec-29cc742678f7",
     "regions": {
      "f15302ee-7f98-4144-9731-2584026c2d39": {
       "attrs": {
        "height": 0.8,
        "width": 0.8,
        "x": 0.1,
        "y": 0.1
       },
       "content": {
        "cell": "315430c7-7de6-41df-879b-6f8ac2633fb6",
        "part": "whole"
       },
       "id": "f15302ee-7f98-4144-9731-2584026c2d39"
      }
     }
    },
    "37eb71ad-25db-4330-a7e9-cdd80a3647e6": {
     "id": "37eb71ad-25db-4330-a7e9-cdd80a3647e6",
     "prev": "a5b9d155-acad-4bda-b7ae-e51aad2acb1d",
     "regions": {
      "24a505fd-c62a-4dea-a954-d240de638026": {
       "attrs": {
        "height": 0.8,
        "width": 0.8,
        "x": 0.1,
        "y": 0.1
       },
       "content": {
        "cell": "d2984356-6636-454c-926a-78a56de17a81",
        "part": "whole"
       },
       "id": "24a505fd-c62a-4dea-a954-d240de638026"
      }
     }
    },
    "3e7de0ee-460a-41a6-b408-39aaec4b84c0": {
     "id": "3e7de0ee-460a-41a6-b408-39aaec4b84c0",
     "prev": "8479524e-8da8-41f6-a42c-ab4f2d90513b",
     "regions": {
      "c0db28c9-3f2d-41f9-a6a9-b474e7f4213d": {
       "attrs": {
        "height": 0.8,
        "width": 0.8,
        "x": 0.1,
        "y": 0.1
       },
       "content": {
        "cell": "0b3a56ad-7908-4339-ad58-fcf9f998ea4a",
        "part": "whole"
       },
       "id": "c0db28c9-3f2d-41f9-a6a9-b474e7f4213d"
      }
     }
    },
    "4030bd39-0c5b-4db9-90aa-869d03c4b9b6": {
     "id": "4030bd39-0c5b-4db9-90aa-869d03c4b9b6",
     "prev": "1ca2c16c-bf06-40eb-bc14-bb12a3f59b7c",
     "regions": {
      "6a0ecb39-3b48-4e30-ad3e-81d6e271774a": {
       "attrs": {
        "height": 0.8,
        "width": 0.8,
        "x": 0.1,
        "y": 0.1
       },
       "content": {
        "cell": "77c05e43-a010-41f2-9996-635862698b25",
        "part": "whole"
       },
       "id": "6a0ecb39-3b48-4e30-ad3e-81d6e271774a"
      }
     }
    },
    "4733128a-7c69-47cf-8cec-29cc742678f7": {
     "id": "4733128a-7c69-47cf-8cec-29cc742678f7",
     "prev": "efff017b-3356-46ee-803b-dcdc7bb7e9c9",
     "regions": {
      "b5855513-45ba-4057-bcf0-7e386b6dae51": {
       "attrs": {
        "height": 0.8,
        "width": 0.8,
        "x": 0.1,
        "y": 0.1
       },
       "content": {
        "cell": "c3b31923-98ea-4b73-a4c3-4c479e6c685b",
        "part": "whole"
       },
       "id": "b5855513-45ba-4057-bcf0-7e386b6dae51"
      }
     }
    },
    "4769e21c-d587-4180-8cf9-90b937a6afc9": {
     "id": "4769e21c-d587-4180-8cf9-90b937a6afc9",
     "prev": "9bebf52e-3316-4296-8c80-534ab16f942b",
     "regions": {
      "825cc1d9-9dea-4265-82a6-ba1f59a701c1": {
       "attrs": {
        "height": 0.8,
        "width": 0.8,
        "x": 0.1,
        "y": 0.1
       },
       "content": {
        "cell": "72225e65-adaf-4a26-a557-c896106b9c90",
        "part": "whole"
       },
       "id": "825cc1d9-9dea-4265-82a6-ba1f59a701c1"
      }
     }
    },
    "61bf3dbe-39f2-4b39-811a-0116f00b1c81": {
     "id": "61bf3dbe-39f2-4b39-811a-0116f00b1c81",
     "prev": "4030bd39-0c5b-4db9-90aa-869d03c4b9b6",
     "regions": {
      "46feae99-388c-435f-b6eb-a5cca00c9ddd": {
       "attrs": {
        "height": 0.8,
        "width": 0.8,
        "x": 0.1,
        "y": 0.1
       },
       "content": {
        "cell": "0c8049ad-4ddf-499b-b41b-25c7ff64dc81",
        "part": "whole"
       },
       "id": "46feae99-388c-435f-b6eb-a5cca00c9ddd"
      }
     }
    },
    "7327b319-e0bf-4ef6-a897-6c8059a74ec4": {
     "id": "7327b319-e0bf-4ef6-a897-6c8059a74ec4",
     "prev": "4769e21c-d587-4180-8cf9-90b937a6afc9",
     "regions": {
      "b79fd446-b34d-43f8-9670-886e5e2c0d59": {
       "attrs": {
        "height": 0.8,
        "width": 0.8,
        "x": 0.1,
        "y": 0.1
       },
       "content": {
        "cell": "632af008-5f51-43c1-8a0d-5bd49168078e",
        "part": "whole"
       },
       "id": "b79fd446-b34d-43f8-9670-886e5e2c0d59"
      }
     }
    },
    "829f7bd9-acb8-4987-8076-617f54e84e0f": {
     "id": "829f7bd9-acb8-4987-8076-617f54e84e0f",
     "prev": "1936576f-d159-4c23-b7d6-3dfb77ecd830",
     "regions": {
      "98da8b59-7469-413b-9c34-e2ea43252f03": {
       "attrs": {
        "height": 0.8,
        "width": 0.8,
        "x": 0.1,
        "y": 0.1
       },
       "content": {
        "cell": "c5a9570a-53ae-4f93-b329-e2d4f70910a2",
        "part": "whole"
       },
       "id": "98da8b59-7469-413b-9c34-e2ea43252f03"
      }
     }
    },
    "8479524e-8da8-41f6-a42c-ab4f2d90513b": {
     "id": "8479524e-8da8-41f6-a42c-ab4f2d90513b",
     "prev": "8f513cb3-652e-40e1-889c-3613ce74ebfe",
     "regions": {
      "9b1566fb-ae16-4a2a-81c0-9aef7e301cb2": {
       "attrs": {
        "height": 0.8,
        "width": 0.8,
        "x": 0.1,
        "y": 0.1
       },
       "content": {
        "cell": "df9444e7-bc5f-4be5-ab81-35f9cee88596",
        "part": "whole"
       },
       "id": "9b1566fb-ae16-4a2a-81c0-9aef7e301cb2"
      }
     }
    },
    "883502e1-0b89-4dba-9000-f631f22408ed": {
     "id": "883502e1-0b89-4dba-9000-f631f22408ed",
     "prev": "2b600f02-12e6-425a-a7a1-9f99046e3fa5",
     "regions": {
      "fa1f5182-6ccd-4c95-b8d6-20f6647ab7b9": {
       "attrs": {
        "height": 0.8,
        "width": 0.8,
        "x": 0.1,
        "y": 0.1
       },
       "content": {
        "cell": "66cf1ff8-5592-4fa8-9409-42dbf77888ee",
        "part": "whole"
       },
       "id": "fa1f5182-6ccd-4c95-b8d6-20f6647ab7b9"
      }
     }
    },
    "8f513cb3-652e-40e1-889c-3613ce74ebfe": {
     "id": "8f513cb3-652e-40e1-889c-3613ce74ebfe",
     "prev": null,
     "regions": {
      "83147284-3811-4958-8630-c47c7d432f36": {
       "attrs": {
        "height": 0.8,
        "width": 0.8,
        "x": 0.1,
        "y": 0.1
       },
       "content": {
        "cell": "2a838d9b-4e28-4c80-a4e1-3accc9c7433c",
        "part": "whole"
       },
       "id": "83147284-3811-4958-8630-c47c7d432f36"
      }
     }
    },
    "91068de6-4c09-4f5e-a5b2-e4745879d3f1": {
     "id": "91068de6-4c09-4f5e-a5b2-e4745879d3f1",
     "prev": "d12c840d-0dbc-4b5b-a863-48ec80b84216",
     "regions": {
      "bb647a9b-d077-4ac8-ac02-f4e513bb65ef": {
       "attrs": {
        "height": 0.8,
        "width": 0.8,
        "x": 0.1,
        "y": 0.1
       },
       "content": {
        "cell": "f4eff274-7807-44f8-81b5-b22b33529450",
        "part": "whole"
       },
       "id": "bb647a9b-d077-4ac8-ac02-f4e513bb65ef"
      }
     }
    },
    "91852294-0b4f-4978-b794-551aea978b7d": {
     "id": "91852294-0b4f-4978-b794-551aea978b7d",
     "prev": "883502e1-0b89-4dba-9000-f631f22408ed",
     "regions": {
      "7a937a45-e8fd-4cca-a030-e3b3ce27f89b": {
       "attrs": {
        "height": 0.8,
        "width": 0.8,
        "x": 0.1,
        "y": 0.1
       },
       "content": {
        "cell": "cf5e3d8b-8bd2-45c7-af20-f57bc44a615f",
        "part": "whole"
       },
       "id": "7a937a45-e8fd-4cca-a030-e3b3ce27f89b"
      }
     }
    },
    "9bebf52e-3316-4296-8c80-534ab16f942b": {
     "id": "9bebf52e-3316-4296-8c80-534ab16f942b",
     "prev": "61bf3dbe-39f2-4b39-811a-0116f00b1c81",
     "regions": {
      "ce553a89-3b84-4e0b-82b0-c73e7091a605": {
       "attrs": {
        "height": 0.8,
        "width": 0.8,
        "x": 0.1,
        "y": 0.1
       },
       "content": {
        "cell": "5aecc56c-7b2b-43b5-9896-14801108e58e",
        "part": "whole"
       },
       "id": "ce553a89-3b84-4e0b-82b0-c73e7091a605"
      }
     }
    },
    "a5b9d155-acad-4bda-b7ae-e51aad2acb1d": {
     "id": "a5b9d155-acad-4bda-b7ae-e51aad2acb1d",
     "prev": "91068de6-4c09-4f5e-a5b2-e4745879d3f1",
     "regions": {
      "9cac3c46-4e7f-48c6-9865-30c0078c3713": {
       "attrs": {
        "height": 0.8,
        "width": 0.8,
        "x": 0.1,
        "y": 0.1
       },
       "content": {
        "cell": "c450c8f2-f854-4604-908f-4ce78cfc523b",
        "part": "whole"
       },
       "id": "9cac3c46-4e7f-48c6-9865-30c0078c3713"
      }
     }
    },
    "b6640056-7c6b-4180-9776-2dc6a5afd162": {
     "id": "b6640056-7c6b-4180-9776-2dc6a5afd162",
     "prev": "829f7bd9-acb8-4987-8076-617f54e84e0f",
     "regions": {
      "b8dc0cde-f793-4458-ac80-40cf24d62a87": {
       "attrs": {
        "height": 0.8,
        "width": 0.8,
        "x": 0.1,
        "y": 0.1
       },
       "content": {
        "cell": "2c7ae14e-b8d4-490d-8eb7-54b6b0967535",
        "part": "whole"
       },
       "id": "b8dc0cde-f793-4458-ac80-40cf24d62a87"
      }
     }
    },
    "d12c840d-0dbc-4b5b-a863-48ec80b84216": {
     "id": "d12c840d-0dbc-4b5b-a863-48ec80b84216",
     "prev": "f29f067e-d94c-4533-b621-d9dc64216b70",
     "regions": {
      "9b88c603-b231-4f89-a3a5-8bd57f75c50a": {
       "attrs": {
        "height": 0.8,
        "width": 0.8,
        "x": 0.1,
        "y": 0.1
       },
       "content": {
        "cell": "32aa350a-2cc3-437b-a557-9beb9436940f",
        "part": "whole"
       },
       "id": "9b88c603-b231-4f89-a3a5-8bd57f75c50a"
      }
     }
    },
    "d5574e01-ddc3-48bd-9b81-e9e8a67187fe": {
     "id": "d5574e01-ddc3-48bd-9b81-e9e8a67187fe",
     "prev": "3e7de0ee-460a-41a6-b408-39aaec4b84c0",
     "regions": {
      "9da08d0a-ff91-44eb-b20c-a1f347eb41ac": {
       "attrs": {
        "height": 0.8,
        "width": 0.8,
        "x": 0.1,
        "y": 0.1
       },
       "content": {
        "cell": "9bc0e768-100d-404c-9eeb-da0b775c416b",
        "part": "whole"
       },
       "id": "9da08d0a-ff91-44eb-b20c-a1f347eb41ac"
      }
     }
    },
    "ee2b74a9-826f-4ece-8bbc-be26bc19b6e5": {
     "id": "ee2b74a9-826f-4ece-8bbc-be26bc19b6e5",
     "prev": "300b47ff-f80b-428c-8262-bcd359007cfb",
     "regions": {
      "a983214b-a414-441c-ae7b-d0704abc33df": {
       "attrs": {
        "height": 0.8,
        "width": 0.8,
        "x": 0.1,
        "y": 0.1
       },
       "content": {
        "cell": "28042957-8080-4242-817c-eb5ca2c11643",
        "part": "whole"
       },
       "id": "a983214b-a414-441c-ae7b-d0704abc33df"
      }
     }
    },
    "efff017b-3356-46ee-803b-dcdc7bb7e9c9": {
     "id": "efff017b-3356-46ee-803b-dcdc7bb7e9c9",
     "prev": "d5574e01-ddc3-48bd-9b81-e9e8a67187fe",
     "regions": {
      "eb25964a-a0bc-4772-ab65-a8b4e8a2ad5a": {
       "attrs": {
        "height": 0.8,
        "width": 0.8,
        "x": 0.1,
        "y": 0.1
       },
       "content": {
        "cell": "f26b1600-e9a2-4608-9159-41fe0ce66fd6",
        "part": "whole"
       },
       "id": "eb25964a-a0bc-4772-ab65-a8b4e8a2ad5a"
      }
     }
    },
    "f29f067e-d94c-4533-b621-d9dc64216b70": {
     "id": "f29f067e-d94c-4533-b621-d9dc64216b70",
     "prev": "b6640056-7c6b-4180-9776-2dc6a5afd162",
     "regions": {
      "acf73492-0b86-470a-afee-74843429e2ba": {
       "attrs": {
        "height": 0.8,
        "width": 0.8,
        "x": 0.1,
        "y": 0.1
       },
       "content": {
        "cell": "00a7e9e2-65e7-4b7f-88c1-3730f01a2fba",
        "part": "whole"
       },
       "id": "acf73492-0b86-470a-afee-74843429e2ba"
      }
     }
    }
   },
   "themes": {}
  }
 },
 "nbformat": 4,
 "nbformat_minor": 0
}
